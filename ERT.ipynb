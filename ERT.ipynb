{
  "cells": [
    {
      "cell_type": "code",
      "execution_count": null,
      "metadata": {
        "collapsed": false
      },
      "outputs": [],
      "source": [
        "# Checkout www.pygimli.org for more examples"
      ]
    },
    {
      "cell_type": "markdown",
      "metadata": {},
      "source": [
        "\n# 2D ERT modeling and inversion\n"
      ]
    },
    {
      "cell_type": "code",
      "execution_count": null,
      "metadata": {
        "collapsed": false
      },
      "outputs": [],
      "source": [
        "import matplotlib.pyplot as plt\nimport numpy as np\n\nimport pygimli as pg\nimport pygimli.meshtools as mt\nfrom pygimli.physics import ert"
      ]
    },
    {
      "cell_type": "markdown",
      "metadata": {},
      "source": [
        "## Geometry definition\nCreate geometry definition for the modelling domain. ``worldMarker=True``\nindicates the default boundary conditions for the ERT\n\n"
      ]
    },
    {
      "cell_type": "code",
      "execution_count": null,
      "metadata": {
        "collapsed": false
      },
      "outputs": [],
      "source": [
        "world = mt.createWorld(start=[-50, 0], end=[50, -50], layers=[-1, -5],\n                       worldMarker=True)"
      ]
    },
    {
      "cell_type": "markdown",
      "metadata": {},
      "source": [
        "Create some heterogeneous circular anomaly\n\n"
      ]
    },
    {
      "cell_type": "code",
      "execution_count": null,
      "metadata": {
        "collapsed": false
      },
      "outputs": [],
      "source": [
        "block = mt.createCircle(pos=[-5, -3.], radius=[4, 1], marker=4,\n                        boundaryMarker=10, area=0.1)"
      ]
    },
    {
      "cell_type": "code",
      "execution_count": null,
      "metadata": {
        "collapsed": false
      },
      "outputs": [],
      "source": [
        "poly = mt.createPolygon([(1,-4), (2,-1.5), (4,-2), (5,-2),\n                         (8,-3), (5,-3.5), (3,-4.5)], isClosed=True,\n                         addNodes=3, interpolate='spline', marker=5)"
      ]
    },
    {
      "cell_type": "markdown",
      "metadata": {},
      "source": [
        "Merge geometry definition into a Piecewise Linear Complex (PLC)\n\n"
      ]
    },
    {
      "cell_type": "code",
      "execution_count": null,
      "metadata": {
        "collapsed": false
      },
      "outputs": [],
      "source": [
        "geom = world + block + poly"
      ]
    },
    {
      "cell_type": "markdown",
      "metadata": {},
      "source": [
        "Optional: show the geometry\n\n"
      ]
    },
    {
      "cell_type": "code",
      "execution_count": null,
      "metadata": {
        "collapsed": false
      },
      "outputs": [],
      "source": [
        "pg.show(geom)"
      ]
    },
    {
      "cell_type": "markdown",
      "metadata": {},
      "source": [
        "## Synthetic data generation\nCreate a Dipole Dipole ('dd') measuring scheme with 21 electrodes.\n\n"
      ]
    },
    {
      "cell_type": "code",
      "execution_count": null,
      "metadata": {
        "collapsed": false
      },
      "outputs": [],
      "source": [
        "scheme = ert.createData(elecs=np.linspace(start=-15, stop=15, num=21),\n                           schemeName='dd')"
      ]
    },
    {
      "cell_type": "markdown",
      "metadata": {},
      "source": [
        "Put all electrode (aka sensors) positions into the PLC to enforce mesh\nrefinement. Due to experience, its convenient to add further refinement\nnodes in a distance of 10% of electrode spacing to achieve sufficient\nnumerical accuracy.\n\n"
      ]
    },
    {
      "cell_type": "code",
      "execution_count": null,
      "metadata": {
        "collapsed": false
      },
      "outputs": [],
      "source": [
        "for p in scheme.sensors():\n    geom.createNode(p)\n    geom.createNode(p - [0, 0.1])\n\n# Create a mesh for the finite element modelling with appropriate mesh quality.\nmesh = mt.createMesh(geom, quality=34)\n\n# Create a map to set resistivity values in the appropriate regions\n# [[regionNumber, resistivity], [regionNumber, resistivity], [...]\nrhomap = [[1, 100.],\n          [2, 75.],\n          [3, 50.],\n          [4, 150.],\n          [5, 25]]\n\n# Take a look at the mesh and the resistivity distribution\npg.show(mesh, data=rhomap, label=pg.unit('res'), showMesh=True)"
      ]
    },
    {
      "cell_type": "markdown",
      "metadata": {},
      "source": [
        "Perform the modeling with the mesh and the measuring scheme itself\nand return a data container with apparent resistivity values,\ngeometric factors and estimated data errors specified by the noise setting.\nThe noise is also added to the data. Here 1% plus 1\u00b5V.\nNote, we force a specific noise seed as we want reproducable results for\ntesting purposes.\n\n"
      ]
    },
    {
      "cell_type": "code",
      "execution_count": null,
      "metadata": {
        "collapsed": false
      },
      "outputs": [],
      "source": [
        "data = ert.simulate(mesh, scheme=scheme, res=rhomap, noiseLevel=1,\n                    noiseAbs=1e-6, seed=1337)\n\npg.info(np.linalg.norm(data['err']), np.linalg.norm(data['rhoa']))\npg.info('Simulated data', data)\npg.info('The data contains:', data.dataMap().keys())\n\npg.info('Simulated rhoa (min/max)', min(data['rhoa']), max(data['rhoa']))\npg.info('Selected data noise %(min/max)', min(data['err'])*100, max(data['err'])*100)"
      ]
    },
    {
      "cell_type": "markdown",
      "metadata": {},
      "source": [
        "Optional: you can filter all values and tokens in the data container.\nIts possible that there are some negative data values due to noise and\nhuge geometric factors. So we need to remove them.\n\n"
      ]
    },
    {
      "cell_type": "code",
      "execution_count": null,
      "metadata": {
        "collapsed": false
      },
      "outputs": [],
      "source": [
        "data.remove(data['rhoa'] < 0)\npg.info('Filtered rhoa (min/max)', min(data['rhoa']), max(data['rhoa']))\n\n# You can save the data for further use\ndata.save('simple.dat')\n\n# You can take a look at the data\nert.show(data)"
      ]
    },
    {
      "cell_type": "markdown",
      "metadata": {},
      "source": [
        "## Inversion with the ERTManager\nInitialize the ERTManager, e.g. with a data container or a filename.\n\n"
      ]
    },
    {
      "cell_type": "code",
      "execution_count": null,
      "metadata": {
        "collapsed": false
      },
      "outputs": [],
      "source": [
        "mgr = ert.ERTManager('simple.dat')"
      ]
    },
    {
      "cell_type": "markdown",
      "metadata": {},
      "source": [
        "Run the inversion with the preset data. The Inversion mesh will be created\nwith default settings.\n\n"
      ]
    },
    {
      "cell_type": "code",
      "execution_count": null,
      "metadata": {
        "collapsed": false
      },
      "outputs": [],
      "source": [
        "inv = mgr.invert(lam=20, verbose=True)\nnp.testing.assert_approx_equal(mgr.inv.chi2(), 0.7, significant=1)"
      ]
    },
    {
      "cell_type": "markdown",
      "metadata": {},
      "source": [
        "Let the ERTManger show you the model of the last successful run and how it\nfits the data. Shows data, model response, and model.\n\n"
      ]
    },
    {
      "cell_type": "code",
      "execution_count": null,
      "metadata": {
        "collapsed": false
      },
      "outputs": [],
      "source": [
        "mgr.showResultAndFit()\nmeshPD = pg.Mesh(mgr.paraDomain) # Save copy of para mesh for plotting later"
      ]
    },
    {
      "cell_type": "markdown",
      "metadata": {},
      "source": [
        "You can also provide your own mesh (e.g., a structured grid if you like them)\nNote, that x and y coordinates needs to be in ascending order to ensure that\nall the cells in the grid have the correct orientation, i.e., all cells need\nto be numbered counter-clockwise and the boundary normal directions need to\npoint outside.\n\n"
      ]
    },
    {
      "cell_type": "code",
      "execution_count": null,
      "metadata": {
        "collapsed": false
      },
      "outputs": [],
      "source": [
        "inversionDomain = pg.createGrid(x=np.linspace(start=-18, stop=18, num=33),\n                                y=-pg.cat([0], pg.utils.grange(0.5, 8, n=5))[::-1],\n                                marker=2)"
      ]
    },
    {
      "cell_type": "markdown",
      "metadata": {},
      "source": [
        "## Inversion with custom mesh\nThe inversion domain for ERT problems needs a boundary that represents the\nfar regions in the subsurface of the halfspace.\nGive a cell marker lower than the marker for the inversion region, the lowest\ncell marker in the mesh will be the inversion boundary region by default.\n\n"
      ]
    },
    {
      "cell_type": "code",
      "execution_count": null,
      "metadata": {
        "collapsed": false
      },
      "outputs": [],
      "source": [
        "grid = pg.meshtools.appendTriangleBoundary(inversionDomain, marker=1,\n                                           xbound=50, ybound=50)\npg.show(grid, markers=True)"
      ]
    },
    {
      "cell_type": "markdown",
      "metadata": {},
      "source": [
        "The Inversion can be called with data and mesh as argument as well\n\n"
      ]
    },
    {
      "cell_type": "code",
      "execution_count": null,
      "metadata": {
        "collapsed": false
      },
      "outputs": [],
      "source": [
        "model = mgr.invert(data, mesh=grid, lam=20, verbose=True)\nnp.testing.assert_approx_equal(mgr.inv.chi2(), 1.4, significant=2)"
      ]
    },
    {
      "cell_type": "markdown",
      "metadata": {},
      "source": [
        "## Visualization\nYou can of course get access to mesh and model and plot them for your own.\nNote that the cells of the parametric domain of your mesh might be in\na different order than the values in the model array if regions are used.\nThe manager can help to permutate them into the right order.\n\n"
      ]
    },
    {
      "cell_type": "code",
      "execution_count": null,
      "metadata": {
        "collapsed": false
      },
      "outputs": [],
      "source": [
        "modelPD = mgr.paraModel(model)  # do the mapping\npg.show(mgr.paraDomain, modelPD, label='Model', cMap='Spectral_r',\n        logScale=True, cMin=25, cMax=150)\n\npg.info('Inversion stopped with chi\u00b2 = {0:.3}'.format(mgr.fw.chi2()))\n\nfig, (ax1, ax2, ax3) = plt.subplots(3,1, sharex=True, sharey=True, figsize=(8,7))\n\npg.show(mesh, rhomap, ax=ax1, hold=True, cMap=\"Spectral_r\", logScale=True,\n        orientation=\"vertical\", cMin=25, cMax=150)\npg.show(meshPD, inv, ax=ax2, hold=True, cMap=\"Spectral_r\", logScale=True,\n        orientation=\"vertical\", cMin=25, cMax=150)\nmgr.showResult(ax=ax3, cMin=25, cMax=150, orientation=\"vertical\")\n\nlabels = [\"True model\", \"Inversion unstructured mesh\", \"Inversion regular grid\"]\nfor ax, label in zip([ax1, ax2, ax3], labels):\n    ax.set_xlim(mgr.paraDomain.xmin(), mgr.paraDomain.xmax())\n    ax.set_ylim(mgr.paraDomain.ymin(), mgr.paraDomain.ymax())\n    ax.set_title(label)"
      ]
    }
  ],
  "metadata": {
    "kernelspec": {
      "display_name": "Python 3",
      "language": "python",
      "name": "python3"
    },
    "language_info": {
      "codemirror_mode": {
        "name": "ipython",
        "version": 3
      },
      "file_extension": ".py",
      "mimetype": "text/x-python",
      "name": "python",
      "nbconvert_exporter": "python",
      "pygments_lexer": "ipython3",
      "version": "3.8.10"
    }
  },
  "nbformat": 4,
  "nbformat_minor": 0
}
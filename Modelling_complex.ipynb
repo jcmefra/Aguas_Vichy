{
  "cells": [
    {
      "cell_type": "markdown",
      "metadata": {},
      "source": [
        "\n",
        "# 2D ERT modeling and inversion\n"
      ]
    },
    {
      "cell_type": "code",
      "execution_count": null,
      "metadata": {
        "collapsed": false
      },
      "outputs": [],
      "source": [
        "import matplotlib.pyplot as plt\n",
        "import numpy as np\n",
        "\n",
        "import pygimli as pg\n",
        "import pygimli.meshtools as mt\n",
        "from pygimli.physics import ert"
      ]
    },
    {
      "cell_type": "markdown",
      "metadata": {},
      "source": [
        "## Geometry definition\n",
        "Create geometry definition for the modelling domain. ``worldMarker=True``\n",
        "indicates the default boundary conditions for the ERT\n",
        "\n"
      ]
    },
    {
      "cell_type": "code",
      "execution_count": null,
      "metadata": {
        "collapsed": false
      },
      "outputs": [],
      "source": [
        "world = mt.createWorld(start=[-350, 0], end=[350, -250], layers=[],\n",
        "                       worldMarker=True)"
      ]
    },
    {
      "cell_type": "markdown",
      "metadata": {},
      "source": [
        "Create deposit shape"
      ]
    },
    {
      "cell_type": "code",
      "execution_count": null,
      "metadata": {},
      "outputs": [],
      "source": [
        "x = np.linspace(-350, 350, 100)\n",
        "y = -150 + 50 * np.sin((x-300) / 200)\n",
        "concave_shape = mt.createPolygon(np.column_stack((x, y)), isClosed=False, marker=1)"
      ]
    },
    {
      "cell_type": "code",
      "execution_count": null,
      "metadata": {},
      "outputs": [],
      "source": [
        "world += concave_shape"
      ]
    },
    {
      "cell_type": "markdown",
      "metadata": {},
      "source": [
        "Calculate fault points position\n"
      ]
    },
    {
      "cell_type": "code",
      "execution_count": null,
      "metadata": {
        "collapsed": false
      },
      "outputs": [],
      "source": [
        "x1 = -125\n",
        "y2 = -250\n",
        "\n",
        "#Find y1 and x2 so fault intersects with first layer base and it has dip = 60°\n",
        "\n",
        "def f(p):\n",
        "    x2, y1 = p\n",
        "    eq1 = y1 - (-150 + 50 * np.sin((x1-300) / 200))\n",
        "    eq2 = x2 - (x1 + (y2 - y1) / np.tan(np.radians(60)))\n",
        "    return [eq1, eq2]\n",
        "\n",
        "from scipy.optimize import fsolve\n",
        "\n",
        "x2, y1 = fsolve(f, [-100, -200])"
      ]
    },
    {
      "cell_type": "markdown",
      "metadata": {},
      "source": [
        "Create fault"
      ]
    },
    {
      "cell_type": "code",
      "execution_count": null,
      "metadata": {},
      "outputs": [],
      "source": [
        "fault = mt.createPolygon([[x1, y1], [x2, y2]], isClosed=False, marker=2)\n",
        "geom = world + fault"
      ]
    },
    {
      "cell_type": "markdown",
      "metadata": {},
      "source": [
        "Define Floresta Formation"
      ]
    },
    {
      "cell_type": "code",
      "execution_count": null,
      "metadata": {},
      "outputs": [],
      "source": [
        "x_top = np.linspace(-350, x1, 100)\n",
        "y_top = -150 + 50 * np.sin((x_top-300) / 200)\n",
        "\n",
        "Floresta_top = np.column_stack((x_top,y_top))[::-1]\n",
        "Floresta_bottom = [[-350, -250], [x2, y2]]\n",
        "Floresta_verts = np.vstack((Floresta_bottom, Floresta_top))\n",
        "Floresta_fm = mt.createPolygon(Floresta_verts, isClosed = True, marker = 3)"
      ]
    },
    {
      "cell_type": "code",
      "execution_count": null,
      "metadata": {
        "collapsed": false
      },
      "outputs": [],
      "source": [
        "geom = world + Floresta_fm + fault"
      ]
    },
    {
      "cell_type": "markdown",
      "metadata": {},
      "source": [
        "Optional: show the geometry\n",
        "\n"
      ]
    },
    {
      "cell_type": "markdown",
      "metadata": {},
      "source": [
        "## Synthetic data generation\n",
        "Create a Dipole Dipole ('dd') measuring scheme with 21 electrodes.\n",
        "\n"
      ]
    },
    {
      "cell_type": "code",
      "execution_count": null,
      "metadata": {
        "collapsed": false
      },
      "outputs": [],
      "source": [
        "scheme = ert.createData(elecs=np.linspace(start=-15, stop=15, num=21),\n",
        "                           schemeName='dd')"
      ]
    },
    {
      "cell_type": "markdown",
      "metadata": {},
      "source": [
        "Put all electrode (aka sensors) positions into the PLC to enforce mesh\n",
        "refinement. Due to experience, its convenient to add further refinement\n",
        "nodes in a distance of 10% of electrode spacing to achieve sufficient\n",
        "numerical accuracy.\n",
        "\n"
      ]
    },
    {
      "cell_type": "code",
      "execution_count": null,
      "metadata": {
        "collapsed": false
      },
      "outputs": [],
      "source": [
        "for p in scheme.sensors():\n",
        "    geom.createNode(p)\n",
        "    geom.createNode(p - [0, 0.1])\n",
        "\n",
        "# Create a mesh for the finite element modelling with appropriate mesh quality.\n",
        "mesh = mt.createMesh(geom, quality=34)\n",
        "\n",
        "# Create a map to set resistivity values in the appropriate regions\n",
        "# [[regionNumber, resistivity], [regionNumber, resistivity], [...]\n",
        "rhomap = [[1, 100.],\n",
        "          [2, 75.],\n",
        "          [3, 50.],\n",
        "          [4, 150.],\n",
        "          [5, 25]]\n",
        "\n",
        "# Take a look at the mesh and the resistivity distribution\n",
        "pg.show(mesh, data=rhomap, label=pg.unit('res'), showMesh=True)"
      ]
    },
    {
      "cell_type": "markdown",
      "metadata": {},
      "source": [
        "Perform the modeling with the mesh and the measuring scheme itself\n",
        "and return a data container with apparent resistivity values,\n",
        "geometric factors and estimated data errors specified by the noise setting.\n",
        "The noise is also added to the data. Here 1% plus 1µV.\n",
        "Note, we force a specific noise seed as we want reproducable results for\n",
        "testing purposes.\n",
        "\n"
      ]
    },
    {
      "cell_type": "code",
      "execution_count": null,
      "metadata": {
        "collapsed": false
      },
      "outputs": [],
      "source": [
        "data = ert.simulate(mesh, scheme=scheme, res=rhomap, noiseLevel=1,\n",
        "                    noiseAbs=1e-6, seed=1337)\n",
        "\n",
        "pg.info(np.linalg.norm(data['err']), np.linalg.norm(data['rhoa']))\n",
        "pg.info('Simulated data', data)\n",
        "pg.info('The data contains:', data.dataMap().keys())\n",
        "\n",
        "pg.info('Simulated rhoa (min/max)', min(data['rhoa']), max(data['rhoa']))\n",
        "pg.info('Selected data noise %(min/max)', min(data['err'])*100, max(data['err'])*100)"
      ]
    },
    {
      "cell_type": "markdown",
      "metadata": {},
      "source": [
        "Optional: you can filter all values and tokens in the data container.\n",
        "Its possible that there are some negative data values due to noise and\n",
        "huge geometric factors. So we need to remove them.\n",
        "\n"
      ]
    },
    {
      "cell_type": "code",
      "execution_count": null,
      "metadata": {
        "collapsed": false
      },
      "outputs": [],
      "source": [
        "data.remove(data['rhoa'] < 0)\n",
        "pg.info('Filtered rhoa (min/max)', min(data['rhoa']), max(data['rhoa']))\n",
        "\n",
        "# You can save the data for further use\n",
        "data.save('simple.dat')\n",
        "\n",
        "# You can take a look at the data\n",
        "ert.show(data)"
      ]
    },
    {
      "cell_type": "markdown",
      "metadata": {},
      "source": [
        "## Inversion with the ERTManager\n",
        "Initialize the ERTManager, e.g. with a data container or a filename.\n",
        "\n"
      ]
    },
    {
      "cell_type": "code",
      "execution_count": null,
      "metadata": {
        "collapsed": false
      },
      "outputs": [],
      "source": [
        "mgr = ert.ERTManager('simple.dat')"
      ]
    },
    {
      "cell_type": "markdown",
      "metadata": {},
      "source": [
        "Run the inversion with the preset data. The Inversion mesh will be created\n",
        "with default settings.\n",
        "\n"
      ]
    },
    {
      "cell_type": "code",
      "execution_count": null,
      "metadata": {
        "collapsed": false
      },
      "outputs": [],
      "source": [
        "inv = mgr.invert(lam=20, verbose=True)\n",
        "np.testing.assert_approx_equal(mgr.inv.chi2(), 0.7, significant=1)"
      ]
    },
    {
      "cell_type": "markdown",
      "metadata": {},
      "source": [
        "Let the ERTManger show you the model of the last successful run and how it\n",
        "fits the data. Shows data, model response, and model.\n",
        "\n"
      ]
    },
    {
      "cell_type": "code",
      "execution_count": null,
      "metadata": {
        "collapsed": false
      },
      "outputs": [],
      "source": [
        "mgr.showResultAndFit()\n",
        "meshPD = pg.Mesh(mgr.paraDomain) # Save copy of para mesh for plotting later"
      ]
    },
    {
      "cell_type": "markdown",
      "metadata": {},
      "source": [
        "You can also provide your own mesh (e.g., a structured grid if you like them)\n",
        "Note, that x and y coordinates needs to be in ascending order to ensure that\n",
        "all the cells in the grid have the correct orientation, i.e., all cells need\n",
        "to be numbered counter-clockwise and the boundary normal directions need to\n",
        "point outside.\n",
        "\n"
      ]
    },
    {
      "cell_type": "code",
      "execution_count": null,
      "metadata": {
        "collapsed": false
      },
      "outputs": [],
      "source": [
        "inversionDomain = pg.createGrid(x=np.linspace(start=-18, stop=18, num=33),\n",
        "                                y=-pg.cat([0], pg.utils.grange(0.5, 8, n=5))[::-1],\n",
        "                                marker=2)"
      ]
    },
    {
      "cell_type": "markdown",
      "metadata": {},
      "source": [
        "## Inversion with custom mesh\n",
        "The inversion domain for ERT problems needs a boundary that represents the\n",
        "far regions in the subsurface of the halfspace.\n",
        "Give a cell marker lower than the marker for the inversion region, the lowest\n",
        "cell marker in the mesh will be the inversion boundary region by default.\n",
        "\n"
      ]
    },
    {
      "cell_type": "code",
      "execution_count": null,
      "metadata": {
        "collapsed": false
      },
      "outputs": [],
      "source": [
        "grid = pg.meshtools.appendTriangleBoundary(inversionDomain, marker=1,\n",
        "                                           xbound=50, ybound=50)\n",
        "pg.show(grid, markers=True)"
      ]
    },
    {
      "cell_type": "markdown",
      "metadata": {},
      "source": [
        "The Inversion can be called with data and mesh as argument as well\n",
        "\n"
      ]
    },
    {
      "cell_type": "code",
      "execution_count": null,
      "metadata": {
        "collapsed": false
      },
      "outputs": [],
      "source": [
        "model = mgr.invert(data, mesh=grid, lam=20, verbose=True)\n",
        "np.testing.assert_approx_equal(mgr.inv.chi2(), 1.4, significant=2)"
      ]
    },
    {
      "cell_type": "markdown",
      "metadata": {},
      "source": [
        "## Visualization\n",
        "You can of course get access to mesh and model and plot them for your own.\n",
        "Note that the cells of the parametric domain of your mesh might be in\n",
        "a different order than the values in the model array if regions are used.\n",
        "The manager can help to permutate them into the right order.\n",
        "\n"
      ]
    },
    {
      "cell_type": "code",
      "execution_count": null,
      "metadata": {
        "collapsed": false
      },
      "outputs": [],
      "source": [
        "modelPD = mgr.paraModel(model)  # do the mapping\n",
        "pg.show(mgr.paraDomain, modelPD, label='Model', cMap='Spectral_r',\n",
        "        logScale=True, cMin=25, cMax=150)\n",
        "\n",
        "pg.info('Inversion stopped with chi² = {0:.3}'.format(mgr.fw.chi2()))\n",
        "\n",
        "fig, (ax1, ax2, ax3) = plt.subplots(3,1, sharex=True, sharey=True, figsize=(8,7))\n",
        "\n",
        "pg.show(mesh, rhomap, ax=ax1, hold=True, cMap=\"Spectral_r\", logScale=True,\n",
        "        orientation=\"vertical\", cMin=25, cMax=150)\n",
        "pg.show(meshPD, inv, ax=ax2, hold=True, cMap=\"Spectral_r\", logScale=True,\n",
        "        orientation=\"vertical\", cMin=25, cMax=150)\n",
        "mgr.showResult(ax=ax3, cMin=25, cMax=150, orientation=\"vertical\")\n",
        "\n",
        "labels = [\"True model\", \"Inversion unstructured mesh\", \"Inversion regular grid\"]\n",
        "for ax, label in zip([ax1, ax2, ax3], labels):\n",
        "    ax.set_xlim(mgr.paraDomain.xmin(), mgr.paraDomain.xmax())\n",
        "    ax.set_ylim(mgr.paraDomain.ymin(), mgr.paraDomain.ymax())\n",
        "    ax.set_title(label)"
      ]
    }
  ],
  "metadata": {
    "kernelspec": {
      "display_name": "Python 3",
      "language": "python",
      "name": "python3"
    },
    "language_info": {
      "codemirror_mode": {
        "name": "ipython",
        "version": 3
      },
      "file_extension": ".py",
      "mimetype": "text/x-python",
      "name": "python",
      "nbconvert_exporter": "python",
      "pygments_lexer": "ipython3",
      "version": "3.10.12"
    }
  },
  "nbformat": 4,
  "nbformat_minor": 0
}

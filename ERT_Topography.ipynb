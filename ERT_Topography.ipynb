{
  "cells": [
    {
      "cell_type": "code",
      "execution_count": null,
      "metadata": {
        "collapsed": false
      },
      "outputs": [],
      "source": [
        "# Checkout www.pygimli.org for more examples"
      ]
    },
    {
      "cell_type": "markdown",
      "metadata": {},
      "source": [
        "\n# ERT field data with topography\n\nSimple example of data measured over a slagdump demonstrating:\n\n- 2D inversion with topography\n- geometric factor generation\n- topography effect\n"
      ]
    },
    {
      "cell_type": "code",
      "execution_count": null,
      "metadata": {
        "collapsed": false
      },
      "outputs": [],
      "source": [
        "import pygimli as pg\nfrom pygimli.physics import ert"
      ]
    },
    {
      "cell_type": "markdown",
      "metadata": {},
      "source": [
        "Get some example data with topography, typically by a call like\ndata = ert.load(\"filename.dat\")\nthat supports various file formats\n\n"
      ]
    },
    {
      "cell_type": "code",
      "execution_count": null,
      "metadata": {
        "collapsed": false
      },
      "outputs": [],
      "source": [
        "data = pg.getExampleFile('ert/slagdump.ohm', load=True, verbose=True)\nprint(data)"
      ]
    },
    {
      "cell_type": "markdown",
      "metadata": {},
      "source": [
        "The data file does not contain geometric factors (token field 'k'),\nso we create them based on the given topography.\n\n"
      ]
    },
    {
      "cell_type": "code",
      "execution_count": null,
      "metadata": {
        "collapsed": false
      },
      "outputs": [],
      "source": [
        "data['k'] = ert.createGeometricFactors(data, numerical=True)"
      ]
    },
    {
      "cell_type": "markdown",
      "metadata": {},
      "source": [
        "We initialize the ERTManager for further steps and eventually inversion.\n\n"
      ]
    },
    {
      "cell_type": "code",
      "execution_count": null,
      "metadata": {
        "collapsed": false
      },
      "outputs": [],
      "source": [
        "mgr = ert.ERTManager(sr=False)"
      ]
    },
    {
      "cell_type": "markdown",
      "metadata": {},
      "source": [
        "It might be interesting to see the topography effect, i.e the ratio between\nthe numerically computed geometry factor and the analytical formula\n\n"
      ]
    },
    {
      "cell_type": "code",
      "execution_count": null,
      "metadata": {
        "collapsed": false
      },
      "outputs": [],
      "source": [
        "k0 = ert.createGeometricFactors(data)\nert.showData(data, vals=k0/data['k'], label='Topography effect')"
      ]
    },
    {
      "cell_type": "markdown",
      "metadata": {},
      "source": [
        "The data container has no apparent resistivities (token field 'rhoa') yet.\nWe can let the Manager fix this later for us (as we now have the 'k' field),\nor we do it manually.\n\n"
      ]
    },
    {
      "cell_type": "code",
      "execution_count": null,
      "metadata": {
        "collapsed": false
      },
      "outputs": [],
      "source": [
        "mgr.checkData(data)\nprint(data)"
      ]
    },
    {
      "cell_type": "markdown",
      "metadata": {},
      "source": [
        "The data container does not necessarily contain data errors data errors\n(token field 'err'), requiring us to enter data errors. We can let the\nmanager guess some defaults for us automaticly or set them manually\n\n"
      ]
    },
    {
      "cell_type": "code",
      "execution_count": null,
      "metadata": {
        "collapsed": false
      },
      "outputs": [],
      "source": [
        "data['err'] = ert.estimateError(data, absoluteUError=5e-5, relativeError=0.03)\n# or manually:\n# data['err'] = data_errors  # somehow\nert.show(data, data['err']*100)"
      ]
    },
    {
      "cell_type": "markdown",
      "metadata": {},
      "source": [
        "Now the data have all necessary fields ('rhoa', 'err' and 'k') so we can run\nthe inversion. The inversion mesh will be created with some optional values\nfor the parametric mesh generation.\n\n\n"
      ]
    },
    {
      "cell_type": "code",
      "execution_count": null,
      "metadata": {
        "collapsed": false
      },
      "outputs": [],
      "source": [
        "mod = mgr.invert(data, lam=10, verbose=True,\n                 paraDX=0.3, paraMaxCellSize=10, paraDepth=20, quality=33.6)\n\nmgr.showResult()"
      ]
    },
    {
      "cell_type": "markdown",
      "metadata": {},
      "source": [
        "We can view the resulting model in the usual way.\n\n"
      ]
    },
    {
      "cell_type": "code",
      "execution_count": null,
      "metadata": {
        "collapsed": false
      },
      "outputs": [],
      "source": [
        "mgr.showResultAndFit()\n# np.testing.assert_approx_equal(ert.inv.chi2(), 1.10883, significant=3)"
      ]
    },
    {
      "cell_type": "markdown",
      "metadata": {},
      "source": [
        "Or just plot the model only using your own options.\n\n"
      ]
    },
    {
      "cell_type": "code",
      "execution_count": null,
      "metadata": {
        "collapsed": false
      },
      "outputs": [],
      "source": [
        "mgr.showResult(mod, cMin=5, cMax=30, cMap=\"Spectral_r\", logScale=True)"
      ]
    }
  ],
  "metadata": {
    "kernelspec": {
      "display_name": "Python 3",
      "language": "python",
      "name": "python3"
    },
    "language_info": {
      "codemirror_mode": {
        "name": "ipython",
        "version": 3
      },
      "file_extension": ".py",
      "mimetype": "text/x-python",
      "name": "python",
      "nbconvert_exporter": "python",
      "pygments_lexer": "ipython3",
      "version": "3.8.10"
    }
  },
  "nbformat": 4,
  "nbformat_minor": 0
}